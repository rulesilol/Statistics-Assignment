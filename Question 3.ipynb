{
 "cells": [
  {
   "cell_type": "code",
   "execution_count": 1,
   "metadata": {},
   "outputs": [],
   "source": [
    "using LinearAlgebra\n",
    "using Base"
   ]
  },
  {
   "cell_type": "markdown",
   "metadata": {},
   "source": [
    "Starting off we initialize the p matrix and the q matrix. Then we initialize all four possibilities of the paths that the survivor can take. E.g. the survivor can start in the jungle and must proceed to deserts, mountains, wetlands and finally back to jungle in that exact order. This is represented by s1. s2, s2, s3, s4 represents the path the survivor must take if they start at location 2, 3 or 4. "
   ]
  },
  {
   "cell_type": "code",
   "execution_count": 22,
   "metadata": {},
   "outputs": [],
   "source": [
    "p = [0.02 0.1 0.05 0.2;\n",
    "    0.1 0.2 0.01 0.05;\n",
    "    0.11 0.08 0.08 0.08]\n",
    "q = [0.3 0.2 0.3 0.2]\n",
    "\n",
    "s1 = [1, 2, 3, 4, 1];\n",
    "s2 = [2, 3, 4, 1, 2];\n",
    "s3 = [3, 4, 1, 2, 3];\n",
    "s4 = [4, 1, 2, 3, 4];\n",
    "scenarios = [s1, s2, s3, s4];"
   ]
  },
  {
   "cell_type": "markdown",
   "metadata": {},
   "source": [
    "This function takes a search path and outputs the probability that the survivor given the search action used. For example, if the rescuers uses[helicopter, vehicle, ground, vehicle, ground] in that order, the probability of finding the survivor is 0.174."
   ]
  },
  {
   "cell_type": "code",
   "execution_count": 29,
   "metadata": {},
   "outputs": [
    {
     "data": {
      "text/plain": [
       "0.174"
      ]
     },
     "execution_count": 29,
     "metadata": {},
     "output_type": "execute_result"
    }
   ],
   "source": [
    "function proba_finding(searchAction)\n",
    "    sit1 = 0\n",
    "    sit2 = 0\n",
    "    sit3 = 0\n",
    "    sit4 = 0\n",
    "    ## Probability of being found given situation 1 and the path the rescuer's take\n",
    "    for (i, j) in enumerate(searchAction)\n",
    "        if j == s1[i]\n",
    "            sit1 += p[j, s1[i]]\n",
    "        end\n",
    "    end\n",
    "    ## Probability of being found given situation 2 and the path the rescuer's take\n",
    "    for (i, j) in enumerate(searchAction)\n",
    "        if j == s2[i]\n",
    "            sit2 += p[j, s2[i]]\n",
    "        end\n",
    "    end\n",
    "    ## Probability of being found given situation 3 and the path the rescuer's take\n",
    "    for (i, j) in enumerate(searchAction)\n",
    "        if j == s3[i]\n",
    "            sit3 += p[j, s3[i]]\n",
    "        end\n",
    "    end\n",
    "    ## Probability of being found given situation 4 and the path the rescuer's take\n",
    "    for (i, j) in enumerate(searchAction)\n",
    "        if j == s4[i]\n",
    "            sit4 += p[j, s4[i]]\n",
    "        end\n",
    "    end\n",
    "    return 0.3*sit1 + 0.2*sit2 +0.3*sit3 + 0.2*sit4\n",
    "end\n",
    "\n",
    "proba_finding([1,2,3,2,3])"
   ]
  },
  {
   "cell_type": "markdown",
   "metadata": {},
   "source": [
    "Now using randomly generated search action combinations, we create a list of search action paths and probabilities that the survivor is found given that search action path. Then we find the max of these probabilities and the corresponding path:"
   ]
  },
  {
   "cell_type": "code",
   "execution_count": 30,
   "metadata": {},
   "outputs": [],
   "source": [
    "max_probs=[]\n",
    "path_list = []\n",
    "for i in 1:1500\n",
    "    path = [rand(1:3), rand(1:3), rand(1:3), rand(1:3), rand(1:3)]\n",
    "    Base.push!(path_list, path)\n",
    "    Base.push!(max_probs, proba_finding(path))\n",
    "    end "
   ]
  },
  {
   "cell_type": "code",
   "execution_count": 32,
   "metadata": {},
   "outputs": [
    {
     "name": "stdout",
     "output_type": "stream",
     "text": [
      "Probability of finding is: 0.24000000000000002 with path: [2, 2, 2, 2, 2]"
     ]
    }
   ],
   "source": [
    "x, y = findmax(max_probs)\n",
    "print(\"Probability of finding is: \", x, \" with path: \", path_list[y])"
   ]
  },
  {
   "cell_type": "markdown",
   "metadata": {},
   "source": [
    "Here we find that the best search method is vehicle $\\rightarrow$ vehicle $\\leftarrow$"
   ]
  }
 ],
 "metadata": {
  "kernelspec": {
   "display_name": "Julia 1.3.1",
   "language": "julia",
   "name": "julia-1.3"
  },
  "language_info": {
   "file_extension": ".jl",
   "mimetype": "application/julia",
   "name": "julia",
   "version": "1.3.1"
  }
 },
 "nbformat": 4,
 "nbformat_minor": 4
}
