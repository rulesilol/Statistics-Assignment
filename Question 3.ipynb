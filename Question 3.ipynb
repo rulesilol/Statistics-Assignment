{
 "cells": [
  {
   "cell_type": "markdown",
   "metadata": {},
   "source": [
    "## Statistics and Financial Econometrics Assignment \n",
    "### Question 3\n",
    "Andrew Lei <br>\n",
    "13871304"
   ]
  },
  {
   "cell_type": "code",
   "execution_count": 1,
   "metadata": {},
   "outputs": [],
   "source": [
    "using LinearAlgebra\n",
    "using Base\n",
    "using Random"
   ]
  },
  {
   "cell_type": "markdown",
   "metadata": {},
   "source": [
    "Initializing the variables. notP is the probability of not finding the survivor. s1, s2, s3, s4 are the possible paths the survivor could take over the 5 days."
   ]
  },
  {
   "cell_type": "code",
   "execution_count": 5,
   "metadata": {},
   "outputs": [],
   "source": [
    "p = [0.02 0.1 0.05 0.2;\n",
    "    0.1 0.2 0.01 0.05;\n",
    "    0.11 0.08 0.08 0.08]\n",
    "notP = ones(3, 4) - p\n",
    "q = [0.3 0.2 0.3 0.2]\n",
    "\n",
    "s1 = [1, 2, 3, 4, 1];\n",
    "s2 = [2, 3, 4, 1, 2];\n",
    "s3 = [3, 4, 1, 2, 3];\n",
    "s4 = [4, 1, 2, 3, 4];"
   ]
  },
  {
   "cell_type": "markdown",
   "metadata": {},
   "source": [
    "Now I create a function that computes finds the probability of NOT finding the survivor given the course of search action. This is done for the four paths the survivor can take. Then, this is multiplied by the probability of the survivor taking that path."
   ]
  },
  {
   "cell_type": "code",
   "execution_count": 3,
   "metadata": {},
   "outputs": [
    {
     "data": {
      "text/plain": [
       "probabilityNotFound (generic function with 1 method)"
      ]
     },
     "execution_count": 3,
     "metadata": {},
     "output_type": "execute_result"
    }
   ],
   "source": [
    "function probabilityNotFound(path)\n",
    "    sit1 = 1\n",
    "    sit2 = 1\n",
    "    sit3 = 1\n",
    "    sit4 = 1\n",
    "    for (i, j) in enumerate(path) ## Situation 1 where the survivor starts in the jungle\n",
    "        sit1 *= notP[j, s1[i]]   \n",
    "    end\n",
    "    for (i, j) in enumerate(path)  ## Situation 2 where the survivor starts in the desert\n",
    "        sit2 *= notP[j, s2[i]]\n",
    "    end\n",
    "    for (i, j) in enumerate(path)  ## Situation 3 where the survivor starts in the mountains\n",
    "        sit3 *= notP[j, s3[i]]\n",
    "    end\n",
    "    for (i, j) in enumerate(path)  ## Situation 4 where the survivor starts in the wetlands\n",
    "        sit4 *= notP[j, s4[i]]\n",
    "    end\n",
    "    return 0.3*sit1 + 0.2*sit2 + 0.3*sit3 + 0.2*sit4\n",
    "end"
   ]
  },
  {
   "cell_type": "markdown",
   "metadata": {},
   "source": [
    "Now I try to find the course of search action that minimizes the probability of the survivor not being found. I need to first find the probability of not finding the survivor for all possible combinations of search acions. To do this I randomly generate course of search actions, check if I've already evaluated that search action. I'm sure there is a better way to to get all the combinations but I'm not fluent enough in Julia to do it. Then I put it in a dictionary with the key being the path of search action and value being the probability of not finding the survivor.\n",
    "\n",
    "Next I find the minimum value of the dictionary. Using that, I find all search actions with this minimum value in the dictionary. Finally, I output all search actions with this probability. The maximum probability of finding the survivor is (1 - minimum probability of NOT finding the survivor)."
   ]
  },
  {
   "cell_type": "code",
   "execution_count": 14,
   "metadata": {
    "scrolled": true
   },
   "outputs": [
    {
     "name": "stdout",
     "output_type": "stream",
     "text": [
      "Path\tProbability of Finding Survivor Given Path\n",
      "21213\t0.39127256\n",
      "31212\t0.39127256\n"
     ]
    }
   ],
   "source": [
    "path_probNotFound = Dict() ## Initializing a dictionary\n",
    "for i in 1:1000000\n",
    "    rescueTeamMethod = [rand(1:3), rand(1:3), rand(1:3), rand(1:3), rand(1:3)]\n",
    "    ## path_string is used to convert the rescueTeamMethod array into a string in order to allow the dictionary to take\n",
    "    ## is as a key\n",
    "    path_string = string(string.(rescueTeamMethod[1]), string.(rescueTeamMethod[2]), string.(rescueTeamMethod[3]),\n",
    "        string.(rescueTeamMethod[4]), string.(rescueTeamMethod[5]))\n",
    "    ## Basically, of the path is in the dictionary; continue, else; add the path as a key and the probability of NOT\n",
    "    ## finding the survivor as the value\n",
    "    if path_string in keys(path_probNotFound)\n",
    "        continue\n",
    "    else\n",
    "        x = probabilityNotFound(rescueTeamMethod)\n",
    "        path_probNotFound[path_string] = x\n",
    "    end\n",
    "end\n",
    "\n",
    "## Finding the minumum value for NOT finding the survivor\n",
    "minProbabilityNotFound = minimum(values(path_probNotFound))\n",
    "\n",
    "## Finding all search action paths with this minumum value and outputting them along with (1 - probability of NOT finding\n",
    "## the survivor)\n",
    "print(\"Path\", '\\t', \"Probability of Finding Survivor Given Path\", '\\n')\n",
    "for i in keys(path_probNotFound)\n",
    "    if path_probNotFound[i] == minProbabilityNotFound\n",
    "        print(i, '\\t', 1 - path_probNotFound[i], '\\n')\n",
    "    end\n",
    "end"
   ]
  }
 ],
 "metadata": {
  "kernelspec": {
   "display_name": "Julia 1.3.1",
   "language": "julia",
   "name": "julia-1.3"
  },
  "language_info": {
   "file_extension": ".jl",
   "mimetype": "application/julia",
   "name": "julia",
   "version": "1.3.1"
  }
 },
 "nbformat": 4,
 "nbformat_minor": 4
}
