{
 "cells": [
  {
   "cell_type": "markdown",
   "metadata": {},
   "source": [
    "## Statistics and Financial Econometrics Assignment \n",
    "### Question 3\n",
    "Andrew Lei <br>\n",
    "13871304"
   ]
  },
  {
   "cell_type": "code",
   "execution_count": 1,
   "metadata": {},
   "outputs": [],
   "source": [
    "using LinearAlgebra\n",
    "using Base\n",
    "using Random"
   ]
  },
  {
   "cell_type": "code",
   "execution_count": 2,
   "metadata": {},
   "outputs": [],
   "source": [
    "p = [0.02 0.1 0.05 0.2;\n",
    "    0.1 0.2 0.01 0.05;\n",
    "    0.11 0.08 0.08 0.08]\n",
    "notP = ones(3, 4) - p\n",
    "q = [0.3 0.2 0.3 0.2]\n",
    "\n",
    "s1 = [1, 2, 3, 4, 1];\n",
    "s2 = [2, 3, 4, 1, 2];\n",
    "s3 = [3, 4, 1, 2, 3];\n",
    "s4 = [4, 1, 2, 3, 4];\n",
    "scenarios = [s1, s2, s3, s4];"
   ]
  },
  {
   "cell_type": "code",
   "execution_count": 3,
   "metadata": {},
   "outputs": [
    {
     "data": {
      "text/plain": [
       "probabilityNotFound (generic function with 1 method)"
      ]
     },
     "execution_count": 3,
     "metadata": {},
     "output_type": "execute_result"
    }
   ],
   "source": [
    "function probabilityNotFound(path) #Path in [1, 2, 3]\n",
    "    sit1 = 1\n",
    "    sit2 = 1\n",
    "    sit3 = 1\n",
    "    sit4 = 1\n",
    "    for (i, j) in enumerate(path)\n",
    "        sit1 *= notP[j, s1[i]]\n",
    "    end\n",
    "    for (i, j) in enumerate(path)\n",
    "        sit2 *= notP[j, s2[i]]\n",
    "    end\n",
    "    for (i, j) in enumerate(path)\n",
    "        sit3 *= notP[j, s3[i]]\n",
    "    end\n",
    "    for (i, j) in enumerate(path)\n",
    "        sit4 *= notP[j, s4[i]]\n",
    "    end\n",
    "    return 0.3*sit1 + 0.2*sit2 + 0.3*sit3 + 0.2*sit4\n",
    "end"
   ]
  },
  {
   "cell_type": "code",
   "execution_count": 4,
   "metadata": {
    "scrolled": true
   },
   "outputs": [
    {
     "name": "stdout",
     "output_type": "stream",
     "text": [
      "Path\tProbability of Finding Survivor Given Path\n",
      "21213\t0.39127256\n",
      "31212\t0.39127256\n"
     ]
    }
   ],
   "source": [
    "path_probNotFound = Dict()\n",
    "for i in 1:100000\n",
    "    rescueTeamMethod = [rand(1:3), rand(1:3), rand(1:3), rand(1:3), rand(1:3)]\n",
    "    path_string = string(string.(rescueTeamMethod[1]), string.(rescueTeamMethod[2]), string.(rescueTeamMethod[3]), string.(rescueTeamMethod[4]), string.(rescueTeamMethod[5]))\n",
    "    x = probabilityNotFound(rescueTeamMethod)\n",
    "    if path_string in keys(path_probNotFound)\n",
    "        continue\n",
    "    else\n",
    "        path_probNotFound[path_string] = x\n",
    "    end\n",
    "end\n",
    "minProbabilityNotFound = minimum(values(path_probNotFound))\n",
    "print(\"Path\", '\\t', \"Probability of Finding Survivor Given Path\", '\\n')\n",
    "for i in keys(path_probNotFound)\n",
    "    if path_probNotFound[i] == minProbabilityNotFound\n",
    "        print(i, '\\t', 1 - path_probNotFound[i], '\\n')\n",
    "    end\n",
    "end"
   ]
  }
 ],
 "metadata": {
  "kernelspec": {
   "display_name": "Julia 1.3.1",
   "language": "julia",
   "name": "julia-1.3"
  },
  "language_info": {
   "file_extension": ".jl",
   "mimetype": "application/julia",
   "name": "julia",
   "version": "1.3.1"
  }
 },
 "nbformat": 4,
 "nbformat_minor": 4
}
